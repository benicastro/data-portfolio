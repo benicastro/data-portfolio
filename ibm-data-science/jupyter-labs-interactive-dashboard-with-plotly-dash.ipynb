{
 "cells": [
  {
   "cell_type": "markdown",
   "id": "58d25a69",
   "metadata": {},
   "source": [
    "# Hands-on Lab: Build an Interactive Dashboard with Ploty Dash"
   ]
  },
  {
   "cell_type": "markdown",
   "id": "de22e803",
   "metadata": {},
   "source": [
    "***"
   ]
  },
  {
   "cell_type": "code",
   "execution_count": 1,
   "id": "bee8c821",
   "metadata": {},
   "outputs": [],
   "source": [
    "# Import needed modules/libraries\n",
    "import pandas as pd\n",
    "import dash\n",
    "from dash import html\n",
    "from dash import dcc\n",
    "from dash.dependencies import Input, Output\n",
    "import plotly.express as px"
   ]
  },
  {
   "cell_type": "code",
   "execution_count": 2,
   "id": "c0c3c11d",
   "metadata": {},
   "outputs": [],
   "source": [
    "# Read the csv data into pandas dataframe\n",
    "spacex_df = pd.read_csv(\"spacex_launch_dash.csv\")\n",
    "\n",
    "# Extract the unique launch sites\n",
    "launch_sites = [{\"label\": \"All Sites\", \"value\": \"All Sites\"}]\n",
    "unique_launch_sites = spacex_df[\"Launch Site\"].unique().tolist()\n",
    "for site in unique_launch_sites:\n",
    "    launch_sites.append({\"label\": site, \"value\": site})\n",
    "    \n",
    "# Get max and min payload mass\n",
    "max_payload = spacex_df['Payload Mass (kg)'].max()\n",
    "min_payload = spacex_df['Payload Mass (kg)'].min()"
   ]
  },
  {
   "cell_type": "code",
   "execution_count": 7,
   "id": "d4c6c0c1",
   "metadata": {},
   "outputs": [],
   "source": [
    "# Create a dash application\n",
    "app = dash.Dash(__name__)\n",
    "\n",
    "# Create an app layout\n",
    "app.layout = html.Div(children=[html.H1(\"SpaceX Launch Records Dashboard\",\n",
    "                                        style={\"textAlign\": \"center\", \"color\": \"#503D36\",\n",
    "                                              \"font-size\": 40\n",
    "                                              }\n",
    "                                       ),\n",
    "                                # TASK 1: Add a Launch Site Drop-down Input Component\n",
    "                                # We have four different launch sites and we would like to first see \n",
    "                                # which one has the largest success count. Then, we would like to select \n",
    "                                # one specific site and check its detailed success rate (class=0 vs. class=1).\n",
    "                                dcc.Dropdown(id='site-dropdown',\n",
    "                                             options=launch_sites,\n",
    "                                             placeholder='Select a Launch Site Here',\n",
    "                                             value='All Sites',\n",
    "                                             searchable=True),\n",
    "                                html.Br(),\n",
    "                                \n",
    "                                # TASK 2.1: Add a Pie Chart Showing the Successful Launches for All Sites\n",
    "                                html.Div(dcc.Graph(id=\"success-pie-chart\")),\n",
    "                                html.Br(),\n",
    "                                \n",
    "                                html.P(\"Payload Range (kg):\"),\n",
    "                                \n",
    "                                # TASK 3: Add a Range Slider to Select Payload\n",
    "                                \n",
    "                                dcc.RangeSlider(id=\"payload-slider\",\n",
    "                                               min=0,\n",
    "                                               max=10000,\n",
    "                                               step=1000,\n",
    "                                               marks={x: f\"{x} kg\" for x in range(0, 10001, 1000)},\n",
    "                                               value=[min_payload, max_payload]\n",
    "                                               ),\n",
    "                                \n",
    "                                # TASK 4.1: Add a Scatter Plot to Show the Correlation Between Payload and Launch Success\n",
    "                                html.Div(dcc.Graph(id=\"success-payload-scatter-chart\")),     \n",
    "                               ])\n",
    "\n",
    "# TASK 2.2: Add a callback function for `site-dropdown` as input, `success-pie-chart` as output\n",
    "@app.callback(Output(component_id='success-pie-chart', component_property='figure'),\n",
    "              Input(component_id='site-dropdown', component_property='value'))\n",
    "\n",
    "def get_pie_chart(launch_site):\n",
    "    if (launch_site == 'All Sites'):\n",
    "        df  = spacex_df[spacex_df['class'] == 1]\n",
    "        fig = px.pie(df, names='Launch Site', hole=.3, title='Total Success Launches By all sites')\n",
    "    else:\n",
    "        df  = spacex_df.loc[spacex_df['Launch Site'] == launch_site]\n",
    "        fig = px.pie(df, names='class', hole=.3, title='Total Success Launches for site ' + launch_site)\n",
    "    return fig\n",
    "\n",
    "# TASK 4.2: Add a callback function for `site-dropdown` and `payload-slider` as inputs, `success-payload-scatter-chart` as output\n",
    "@app.callback(Output(component_id='success-payload-scatter-chart', component_property='figure'),\n",
    "              [Input(component_id='site-dropdown', component_property='value'),\n",
    "               Input(component_id='payload-slider',component_property='value')])\n",
    "\n",
    "def get_payload_chart(launch_site, payload_mass):\n",
    "    if launch_site == 'All Sites':\n",
    "        fig = px.scatter(spacex_df[spacex_df['Payload Mass (kg)'].between(payload_mass[0], payload_mass[1])], \n",
    "                x=\"Payload Mass (kg)\",\n",
    "                y=\"class\",\n",
    "                color=\"Booster Version Category\",\n",
    "                hover_data=['Launch Site'],\n",
    "                title='Correlation Between Payload and Success for All Sites')\n",
    "    else:\n",
    "        df = spacex_df[spacex_df['Launch Site']==str(launch_site)]\n",
    "        fig = px.scatter(df[df['Payload Mass (kg)'].between(payload_mass[0], payload_mass[1])], \n",
    "                x=\"Payload Mass (kg)\",\n",
    "                y=\"class\",\n",
    "                color=\"Booster Version Category\",\n",
    "                hover_data=['Launch Site'],\n",
    "                title='Correlation Between Payload and Success for Site {}'.format(launch_site))\n",
    "    return fig"
   ]
  },
  {
   "cell_type": "code",
   "execution_count": 8,
   "id": "50ed75e4",
   "metadata": {
    "scrolled": true
   },
   "outputs": [
    {
     "data": {
      "text/html": [
       "\n",
       "        <iframe\n",
       "            width=\"100%\"\n",
       "            height=\"650\"\n",
       "            src=\"http://127.0.0.1:8050/\"\n",
       "            frameborder=\"0\"\n",
       "            allowfullscreen\n",
       "            \n",
       "        ></iframe>\n",
       "        "
      ],
      "text/plain": [
       "<IPython.lib.display.IFrame at 0x12cd4aa0790>"
      ]
     },
     "metadata": {},
     "output_type": "display_data"
    }
   ],
   "source": [
    "# Run the app\n",
    "if __name__ == \"__main__\":\n",
    "    app.run_server()"
   ]
  },
  {
   "cell_type": "code",
   "execution_count": null,
   "id": "dc4d8418",
   "metadata": {},
   "outputs": [],
   "source": [
    "# Now with the dashboard completed, you should be able to use it to analyze SpaceX launch data, and answer the following questions:\n",
    "\n",
    "# Which site has the largest successful launches?\n",
    "# Which site has the highest launch success rate?\n",
    "# Which payload range(s) has the highest launch success rate?\n",
    "# Which payload range(s) has the lowest launch success rate?\n",
    "# Which F9 Booster version (v1.0, v1.1, FT, B4, B5, etc.) has the highest\n",
    "# launch success rate?"
   ]
  }
 ],
 "metadata": {
  "kernelspec": {
   "display_name": "Python 3 (ipykernel)",
   "language": "python",
   "name": "python3"
  },
  "language_info": {
   "codemirror_mode": {
    "name": "ipython",
    "version": 3
   },
   "file_extension": ".py",
   "mimetype": "text/x-python",
   "name": "python",
   "nbconvert_exporter": "python",
   "pygments_lexer": "ipython3",
   "version": "3.9.13"
  }
 },
 "nbformat": 4,
 "nbformat_minor": 5
}
